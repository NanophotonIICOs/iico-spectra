{
 "cells": [
  {
   "cell_type": "code",
   "execution_count": null,
   "metadata": {},
   "outputs": [],
   "source": [
    "import numpy as np\n",
    "import glob as glob\n",
    "import matplotlib.pyplot as plt\n",
    "files= glob.glob(\"*.csv\")\n",
    "files"
   ]
  },
  {
   "cell_type": "code",
   "execution_count": null,
   "metadata": {},
   "outputs": [],
   "source": [
    "d1 = np.genfromtxt(files[0],delimiter=\",\")\n",
    "d2=np.genfromtxt(files[1],delimiter=\",\")\n",
    "d3=np.genfromtxt(files[2],delimiter=\",\")\n",
    "d4=np.genfromtxt(files[3],delimiter=\",\")\n",
    "plt.figure(figsize=(5,6))\n",
    "plt.plot(d1[:,0],np.mean(d4[:,1:],1),'y',label='yellow-led')\n",
    "# plt.plot(d2[:,0],np.mean(d2[:,1:],1),'g',label='green-led')\n",
    "# plt.plot(d3[:,0],np.mean(d3[:,1:],1),'b',label='blue-led')\n",
    "plt.legend()\n",
    "plt.show()"
   ]
  },
  {
   "cell_type": "code",
   "execution_count": null,
   "metadata": {},
   "outputs": [],
   "source": [
    "plt.plot(d3[:,0],d3[:,1:])\n",
    "plt.show()"
   ]
  },
  {
   "cell_type": "code",
   "execution_count": null,
   "metadata": {},
   "outputs": [],
   "source": [
    "import pandas as pd\n",
    "df = pd.read_csv(files[-1])\n",
    "df.plot(legend=False,x=\"Wavelength (nm)\")"
   ]
  },
  {
   "cell_type": "code",
   "execution_count": null,
   "metadata": {},
   "outputs": [],
   "source": [
    "df"
   ]
  },
  {
   "cell_type": "code",
   "execution_count": null,
   "metadata": {},
   "outputs": [],
   "source": []
  }
 ],
 "metadata": {
  "kernelspec": {
   "display_name": "ispectra",
   "language": "python",
   "name": "python3"
  },
  "language_info": {
   "codemirror_mode": {
    "name": "ipython",
    "version": 3
   },
   "file_extension": ".py",
   "mimetype": "text/x-python",
   "name": "python",
   "nbconvert_exporter": "python",
   "pygments_lexer": "ipython3",
   "version": "3.8.16"
  },
  "orig_nbformat": 4
 },
 "nbformat": 4,
 "nbformat_minor": 2
}
